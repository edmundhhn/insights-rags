{
 "cells": [
  {
   "cell_type": "markdown",
   "id": "5d8d1cc1-d8c4-46c0-b137-94d01951a58e",
   "metadata": {},
   "source": [
    "# Write Article"
   ]
  },
  {
   "cell_type": "code",
   "execution_count": 14,
   "id": "f1519484-c33c-41de-9658-533450ba2ad9",
   "metadata": {},
   "outputs": [],
   "source": [
    "import smtplib\n",
    "from email.message import EmailMessage\n",
    "import pickle\n",
    "from bs4 import BeautifulSoup"
   ]
  },
  {
   "cell_type": "code",
   "execution_count": 60,
   "id": "99b7c6ca-7cc4-4b54-bbc3-08ec0099b682",
   "metadata": {},
   "outputs": [],
   "source": [
    "sender_email = \n",
    "receiver_emails = \n",
    "receiver_email = \n",
    "app_password = "
   ]
  },
  {
   "cell_type": "code",
   "execution_count": 5,
   "id": "0bb0aff0-ba5f-4e63-b5c8-c4848448cd96",
   "metadata": {},
   "outputs": [],
   "source": [
    "subject = \"Weekly Newsletter\"\n",
    "message = \"Testing\"\n",
    "\n",
    "text = f\"Subject: {subject}\\n\\n{message}\""
   ]
  },
  {
   "cell_type": "code",
   "execution_count": 18,
   "id": "037b4d49-dd9e-4ae3-a782-6790e64c629c",
   "metadata": {},
   "outputs": [],
   "source": [
    "# load data\n",
    "with open('data/summaries.pkl', 'rb') as pkl_file:\n",
    "    articles = pickle.load(pkl_file)"
   ]
  },
  {
   "cell_type": "code",
   "execution_count": 63,
   "id": "1157a326-6778-4519-a111-9d00e8561f0a",
   "metadata": {},
   "outputs": [],
   "source": [
    "with open(\"email.html\", \"r\", encoding=\"utf-8\") as file:\n",
    "    soup = BeautifulSoup(file, \"html.parser\")\n",
    "\n",
    "topics = [\"china\", \"retail\", \"market\"]\n",
    "specific_tag = soup.find(\"td\", {\"id\":\"insertion_point\"})\n",
    "\n",
    "for topic in topics:\n",
    "    new_topic = soup.new_tag(\"h1\")\n",
    "    new_topic.string = topic.capitalize()\n",
    "    specific_tag.append(new_topic)\n",
    "    for article in articles[topic]:\n",
    "        entry = \"\"\n",
    "        art_split = article.split(\"\\n\\n\")\n",
    "        entry += \"<h2>\" + art_split[0][2:-2] + \"</h2>\"\n",
    "        for line in art_split[1:]:\n",
    "            if line[0] == \"*\":\n",
    "                # ignore for now MAYBE CHANGE THIS\n",
    "                #entry += \"<h3>\" + line[2:-2] + \"</h3>\" \n",
    "                pass\n",
    "            else:\n",
    "                entry += \"<p>\" + line + \"</p>\"\n",
    "        #new_entry = soup.new_tag(\"p\")\n",
    "        #new_entry.string = article.replace(\"\\n\\n\", \"<br>\")\n",
    "        soup_entry = BeautifulSoup(entry, \"html.parser\")\n",
    "        specific_tag.append(soup_entry)\n",
    "        \n",
    "with open(\"example_modified.html\", \"w\", encoding=\"utf-8\") as file:\n",
    "    file.write(str(soup.prettify()))"
   ]
  },
  {
   "cell_type": "code",
   "execution_count": 36,
   "id": "90a9a364-bb10-45e5-9492-78642eeea73b",
   "metadata": {},
   "outputs": [],
   "source": [
    "sample_split = sample.split(\"\\n\\n\")"
   ]
  },
  {
   "cell_type": "code",
   "execution_count": 62,
   "id": "36b541cb-9c5e-4685-8f80-c2cec2680376",
   "metadata": {},
   "outputs": [],
   "source": [
    "message = EmailMessage()\n",
    "message[\"From\"] = sender_email\n",
    "message[\"To\"] = receiver_emails\n",
    "message[\"Subject\"] = subject\n",
    "# No point in using Bcc if the recipient is already in To:\n",
    "\n",
    "smtp_server = \"smtp.gmail.com\"\n",
    "\n",
    "with open(\"example_modified.html\") as fp:\n",
    "    message.set_content(fp.read(), 'html')\n",
    "\n",
    "# no need for a context if you are just using the default SSL\n",
    "with smtplib.SMTP_SSL(smtp_server, 465) as server:\n",
    "    server.login(sender_email, app_password)\n",
    "    # Prefer the modern send_message method\n",
    "    server.send_message(message)"
   ]
  },
  {
   "cell_type": "code",
   "execution_count": null,
   "id": "80a656e6-6660-4fbf-bde2-63b97c148c01",
   "metadata": {},
   "outputs": [],
   "source": []
  }
 ],
 "metadata": {
  "kernelspec": {
   "display_name": "Python 3 (ipykernel)",
   "language": "python",
   "name": "python3"
  },
  "language_info": {
   "codemirror_mode": {
    "name": "ipython",
    "version": 3
   },
   "file_extension": ".py",
   "mimetype": "text/x-python",
   "name": "python",
   "nbconvert_exporter": "python",
   "pygments_lexer": "ipython3",
   "version": "3.9.19"
  }
 },
 "nbformat": 4,
 "nbformat_minor": 5
}
