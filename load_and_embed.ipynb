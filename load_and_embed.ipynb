{
 "cells": [
  {
   "cell_type": "markdown",
   "id": "f2d49a7f-88b8-4607-847e-e4619e462feb",
   "metadata": {},
   "source": [
    "# Running LangChain"
   ]
  },
  {
   "cell_type": "markdown",
   "id": "be8e6b1c-241e-4959-9822-34b00c49fc56",
   "metadata": {},
   "source": [
    "## Import Libraries"
   ]
  },
  {
   "cell_type": "code",
   "execution_count": 3,
   "id": "d13dd44e-d4f3-4408-bcbb-3023f8bbd44a",
   "metadata": {},
   "outputs": [],
   "source": [
    "import argparse\n",
    "import os\n",
    "import shutil\n",
    "import boto3\n",
    "\n",
    "import pandas as pd\n",
    "\n",
    "from langchain.document_loaders.pdf import PyPDFDirectoryLoader\n",
    "from langchain_community.document_loaders import DataFrameLoader\n",
    "\n",
    "from langchain_text_splitters import RecursiveCharacterTextSplitter\n",
    "from langchain.schema.document import Document\n",
    "from langchain.vectorstores.chroma import Chroma\n",
    "from langchain_community.embeddings.bedrock import BedrockEmbeddings\n",
    "from langchain.prompts import ChatPromptTemplate\n",
    "from langchain.llms import Ollama"
   ]
  },
  {
   "cell_type": "code",
   "execution_count": 5,
   "id": "3e505f2b-4cf7-4a5a-b03f-d80b08b74f36",
   "metadata": {},
   "outputs": [],
   "source": [
    "CHROMA_PATH = \"chroma\"\n",
    "DATA_PATH = \"data\""
   ]
  },
  {
   "cell_type": "code",
   "execution_count": 28,
   "id": "50123c39-da2b-4ebd-b468-038f3b02bbe3",
   "metadata": {},
   "outputs": [],
   "source": [
    "def load_documents(df_path):\n",
    "    df = pd.read_csv(df_path) \n",
    "    document_loader = DataFrameLoader(df, page_content_column=\"content\")\n",
    "    return document_loader.load()"
   ]
  },
  {
   "cell_type": "code",
   "execution_count": 29,
   "id": "ad0682ad-b5dc-4de4-873f-c1d932a153e3",
   "metadata": {},
   "outputs": [],
   "source": [
    "documents_china = load_documents(DATA_PATH + \"/china.csv\")"
   ]
  },
  {
   "cell_type": "code",
   "execution_count": 48,
   "id": "65c57a44-4dc1-46c0-b5cb-9eba8111f372",
   "metadata": {},
   "outputs": [
    {
     "data": {
      "text/plain": [
       "Document(metadata={'title': 'China Hits Back at the US in Response to Doping Allegations Dogging Its Swimmers', 'link': 'https://thediplomat.com/2024/08/china-hits-back-at-the-us-in-response-to-doping-allegations-dogging-its-swimmers/'}, page_content='China is trying to fight fire with fire in the face of persistent doping allegations that have dogged its swimmers at the Paris Olympics.\\nThe China Anti-Doping Agency called Thursday for more intensive testing of U.S. track and field competitors, citing in a news release past doping scandals and questioning how the U.S. Anti-Doping Agency handled them.\\nRepeated blasts from the Chinese agency have been echoed by reports in the government-controlled state media complaining about double standards applied to Chinese competitors. The reports have highlighted the more than 600 tests undergone by Chinese swimmers at the Paris Games with no violations found.\\nThe World Anti-Doping Agency and World Aquatics have acknowledged that 23 Chinese swimmers tested positive for a banned substance ahead of the Tokyo Olympics. The results were not made public until revealed by media reports earlier this year, with both bodies accepting the Chinese explanation that the positive tests were caused by tainted food.\\nAfter the details emerged, the United States launched an investigation under a law passed in 2020 giving federal authorities power to investigate sports doping and cover-ups.\\nIn a meeting in Paris this week, the head of the China’s Olympic delegation told his American counterpart that China hopes the United States will stop its “long-arm jurisdiction” and ensure that athletes from all countries can participate smoothly and safely in the 2028 Summer Games in Los Angeles and the 2034 Winter Games in Salt Lake City, according to an account in an official Chinese sports newspaper.\\nChina’s anti-doping agency and its state media have zeroed in on an American sprinter, Erriyon Knighton, who was competing Thursday in the 200-meter finals. Knighton tested positive for a banned substance in March but the U.S. Anti-Doping Agency said an arbitration panel determined it came from contaminated meat, allowing him to compete.\\nThe Chinese agency issued a release Tuesday accusing the U.S. agency of double standards. It followed up Thursday with the release calling for more testing of U.S. track and field competitors.\\nSome competitors from other countries spoke out about the controversy as China won 12 medals in swimming in Paris, including a gold in the men’s 4×100 medley relay that ended a decadeslong U.S. dominance of that event. Chinese swimmers have denied cheating.\\nU.S. swimming legend Michael Phelps doubled down on his support for tougher sanctions, including a lifetime ban for anyone who tests positive for a banned substance.\\nBritish swimmer Adam Peaty, whose team missed out on a medal by finishing fourth in the relay, blasted a system that allowed the Chinese swimmers who tested positive to compete.\\n“As an honorable person, I mean, you should be out of the sport,” he said, “but we know sport isn’t that simple.”\\n')"
      ]
     },
     "execution_count": 48,
     "metadata": {},
     "output_type": "execute_result"
    }
   ],
   "source": [
    "documents_china[1]"
   ]
  },
  {
   "cell_type": "code",
   "execution_count": 43,
   "id": "e926b1a5-0e9a-4da5-a040-ddd737e72d51",
   "metadata": {},
   "outputs": [],
   "source": [
    "def split_documents(documents: list[Document]):\n",
    "    text_splitter = RecursiveCharacterTextSplitter(\n",
    "        chunk_size=3000,\n",
    "        chunk_overlap=500,\n",
    "        length_function=len,\n",
    "        is_separator_regex=False,\n",
    "    )\n",
    "    return text_splitter.split_documents(documents)"
   ]
  },
  {
   "cell_type": "code",
   "execution_count": 44,
   "id": "af0a2f57-b80f-46ab-9a15-cd7811d779fa",
   "metadata": {},
   "outputs": [],
   "source": [
    "chunks = split_documents(documents_china)"
   ]
  },
  {
   "cell_type": "code",
   "execution_count": 46,
   "id": "12f9ccff-438a-4719-b72d-25be760c1750",
   "metadata": {},
   "outputs": [
    {
     "data": {
      "text/plain": [
       "Document(metadata={'title': 'First Known Survivor of China’s Forced Organ Harvesting Speaks Out', 'link': 'https://thediplomat.com/2024/08/first-known-survivor-of-chinas-forced-organ-harvesting-speaks-out/'}, page_content='This was not an isolated incident. Cheng endured repeated procedures, all under the threat of death. “A few days later, they said I had to have another operation. I thought I was going to die “ he said.\\nDuring his imprisonment, Cheng was subjected to forced blood tests – an ominous indicator of his organs’ viability for transplantation. “They did blood tests on me many times and subjected me to all kinds of inhumane torture,” he noted.\\n“The torture in the prison was very systematic. One was mental and the other was physical [torture]. Mentally they put me and my family members under pressure as they wanted me to give up my faith in Falun Gong and if I didn’t they would force my wife to divorce me when I was in prison.” Cheng was told that if his wife did not divorce him she would face similar persecution as he was facing.\\nAfter hours of excruciating torture known as “the big stretch,” during which his limbs were painfully stretched from all corners, Cheng swallowed a small rusty nail and a blunt blade he had found in the torture room. Despite not showing immediate signs of ill health, he was forcibly taken to the hospital on November 16, 2004.\\nHis family was informed that there was an 80 percent mortality rate associated with the operation, supposedly to remove the objects he had swallowed. When Cheng regained consciousness he found himself shackled again to a hospital bed, with an IV tube taped to his foot, a drainage tube in his left chest, oxygen tubes in his nose, and a 35 cm incision on the left side of his chest. Typically, the removal of such objects would be done via endoscopy, but Cheng had undergone open chest surgery.\\nCheng Pei Ming shows his scar during an examination in the United States. Photo provided by the International Coalition to End Transplant Abuse in China (ETAC)\\nFollowing the forced surgery, Cheng was returned to detention at Daqing Prison, where he experienced severe shortness of breath and fatigue. Despite enduring ongoing torture by prison guards for his refusal to renounce Falun Gong, Cheng remained resolute.\\nIn March 2006, he began a hunger strike and was subsequently transferred to Daqing Longnan Hospital. Upon arrival, his sister was present and witnessed Cheng being shackled to a hospital bed. A prison guard informed his sister that Cheng had supposedly ingested a knife and that the surgery required to remove it had an 80 percent mortality rate. This was the second time the family had been given such information, but this time, neither Cheng nor his family were asked to consent to the operation.\\nCheng maintains that he had not swallowed any object and had no medical condition necessitating surgery before being forcibly taken to the hospital. He believes that the authorities were planning to kill him.')"
      ]
     },
     "execution_count": 46,
     "metadata": {},
     "output_type": "execute_result"
    }
   ],
   "source": [
    "chunks[1]"
   ]
  },
  {
   "cell_type": "code",
   "execution_count": 12,
   "id": "d4a919bf-de2b-49d5-a699-4c65cf03f169",
   "metadata": {},
   "outputs": [],
   "source": [
    "df_china = pd.read_csv(DATA_PATH + \"/china.csv\") "
   ]
  },
  {
   "cell_type": "code",
   "execution_count": 15,
   "id": "053f65ed-78d3-4753-95c4-e7ec509179fb",
   "metadata": {},
   "outputs": [],
   "source": [
    "loader = DataFrameLoader(df_china, page_content_column=\"content\")"
   ]
  },
  {
   "cell_type": "code",
   "execution_count": 17,
   "id": "93fa014e-9dbf-4d1b-9370-36909545f6d5",
   "metadata": {},
   "outputs": [],
   "source": [
    "documents_china = loader.load()"
   ]
  },
  {
   "cell_type": "code",
   "execution_count": 24,
   "id": "42311910-ce29-4bad-8817-a09ef9cb097e",
   "metadata": {},
   "outputs": [
    {
     "data": {
      "text/plain": [
       "'September 2024 marks the 70th anniversary of the much forgotten and often maligned Southeast Asia Treaty Organization (SEATO). However, its legacy in fact provides invaluable insights for Asia’s emerging multilateral alliances, such as the “Quad,” “Quad Plus,” and the much-hyped but still hypothetical idea of an “Asian NATO.” Despite criticisms of its impotency and disunity, understanding how SEATO emerged and the internal divisions that led to its demise is crucial for navigating today’s complex geopolitical terrain.\\nSEATO, also known as the “Manila Pact,” was an international organization for collective defense in Southeast Asia, aimed at combating communist expansion in the region. Established on September 8, 1954, it emerged during a strategic interregnum when postcolonial independence struggles intersected with the United States’ ascent as a superpower and emerging priorities to contain the global expansion of communism.\\nBack in 1949, Washington had just formed NATO to counter the Soviet threat in Europe and contemplated withdrawing from Asia as communists took over China. Fears of a resurgent Japan and the Chinese communist threat initially led countries like the Philippines, South Korea, and the Republic of China to propose an Asian equivalent of NATO, the “Pacific Pact” (the precursor of SEATO), while Australia and New Zealand sought regional security arrangements against Japan and the Soviet Union.\\nThe Americans, wary of regional suspicions of imperialism, preferred a “consultative council” under an “Association of Free Nations of Asia and Pacific” to address concerns about Japan and promote anti-communism. However, disagreements arose over the inclusion of Japan, the United Kingdom, and France at an inopportune time when the Korean War escalated in the 1950s. The urgent need to resolve the Japan issue led the United States and its prospective allies to minimally agree on separate mutual defense treaties – what former U.S. Secretary of State John Foster Dulles, the architect of SEATO, described as a “spokes on a wheel” approach, now commonly known as the “hub and spoke” system.\\nNone of the parties viewed this system as adequate or final but rather as a prelude to “a more comprehensive system of regional security in the Pacific area.”\\nIn March 1953, ideas for a multilateral alliance emerged once more after Dulles urged Asian partners to undertake “United Action” in Indochina to counter the looming threat of a “Red Asia.” Dulles envisioned a coalition comprising the U.S., U.K., France, Australia, Thailand, the Philippines, and the Associated States (Laos, Cambodia, and Vietnam), committed to defending Southeast Asia against communist aggression. However, internal disputes quickly arose as prospective allies jostled for their own interests and membership status. It became clear no one would accept this proposal unless the United States committed forces to Indochina and undertook long-term commitments to Thailand and Malaya.\\nGrowing concerns over French military setbacks at the Battle of Dien Bien Phu soon prompted Washington to take concrete actions toward Dulles’ proposal, leading to backroom meetings to negotiate the formation of SEATO during the Geneva Conference of 1954. During these formative months before its inauguration, significant divisions emerged, particularly among the U.S., U.K., and France. The Americans were frustrated by the French and British reluctance to “hold the balance of Indochina,” reportedly “blocking everything” they wanted to do. The British appeared to be dragging their feet by attempting in vain to expand SEATO to include the Colombo powers (Burma, Indonesia, Ceylon, India, and Pakistan): all except Pakistan were rejected due to suspicions of imperialism. The British also opposed French imperial ambitions to include Cambodia and Laos. Except for the U.S. and Thailand, everyone else avoided specifying “communist aggression” as a threat since it would appear unduly provocative to Beijing.\\nBy August 20, 1954, U.S. concern over its declining prestige in Asia, driven by a perceived failure to lead the fight against communism, compelled it to establish at least some form of security arrangement. Dulles insisted that he “c[ould]n’t come back without a treaty.” The resulting product was a compromised treaty that reflected the divergent interests of member-states. The reluctance to come to a consensus on the nature of communist threat led to a diluted and unrealistic goal of meeting the common danger of communist “aggression by means of armed attack” – an aggression that never materialized. Ultimately, Washington’s reluctance to commit ground forces in Indochina reduced SEATO to a symbol of anti-communist unity, serving more to preserve U.S. prestige than to facilitate effective military intervention.\\nSEATO’s institutional structure created impediments that hindered collective action over the subsequent decades. When the civil war in Laos and Vietnam escalated in the 1960s, the internal divisions became apparent. SEATO members, prioritizing unity over action, avoided measures that could threaten the alliance. As former Thai Foreign Minister Thanat Khoman put it, they aimed to “save SEATO from impotency.”\\nIn 1973, Pakistan withdrew from SEATO in the wake of East Pakistan’s breaking away in 1971 to become Bangladesh. In 1977, the organization formally disbanded.\\nSEATO’s history is a cautionary tale for today’s multilateral alliances like the Quad. Both emerged from divisive geopolitical landscapes marked by significant doubts about their desirability – whose interests they serve – and their practicality – whether they would fulfill their intended purpose as a warfighting alliance given the subversive nature of modern great-power conflicts.\\nToday, the Quad does not suffer from the same suspicions of Western imperialism that bedeviled much of SEATO’s existence. However, fears of entrapment in a great-power conflict have sparked renewed debates about nonalignment, a relic of the Cold War. The fact remains that most Asian countries do not share the same regional threat perception regarding China that the United States does and do not want the Quad to develop into a countervailing alliance.\\nShould China pursue territorial expansion beyond Taiwan, such multilateral alliance proposals might emerge as cohesive and credible. But this scenario appears distant. China’s current challenges to the Indo-Pacific order are of a fundamentally different nature, requiring a hybrid approach to risk mitigation. If even at the height of the Cold War SEATO never faced a armed Chinese communist attack, contemporary policymakers must reconsider whether such alliances are genuinely useful or merely a means to mask insecurities about declining U.S. capacity to maintain regional order.\\nSEATO’s past also teaches us about the kind of problems that may emerge with a multilateral alliance in Asia. Allies often expect more than what is provided for in the casus foederis, testing each other’s commitment even on less critical matters to assess their reliability in more challenging times. During the Cold War, the inflated expectations of SEATO allies compelled the alliance to provide security against threats it was never meant to defend, such as communist subversion, the failure of which resulted in great disillusionment. Some decried SEATO as a “paper tiger,” appearing powerful against communist China but actually ineffectual, while others called it “deterrent diplomacy,” concealing the inadequacy of their defenses through diplomacy.\\nYet SEATO was not to blame. The threat of communist subversion loomed large in its first decade, and SEATO needed to act or risk undermining broader regional confidence in the U.S. security architecture in Asia. SEATO’s experience is telling. Aspiring members of an Asian multilateral alliance must be prepared for the over-expectations of their members, especially in the face of China’s gray-zone operations, lest they be criticized for being just a talk shop.\\nSEATO’s history, with all its twists and turns, remains relevant even 70 years after its formation and nearly 50 years since its demise.\\n'"
      ]
     },
     "execution_count": 24,
     "metadata": {},
     "output_type": "execute_result"
    }
   ],
   "source": [
    "documents_china[2].page_content"
   ]
  },
  {
   "cell_type": "code",
   "execution_count": 25,
   "id": "f2e60130-29fa-4316-b686-e4f571dc1046",
   "metadata": {},
   "outputs": [],
   "source": [
    "llm = Ollama(model=\"llama3.1\")"
   ]
  },
  {
   "cell_type": "code",
   "execution_count": 27,
   "id": "910c8298-8a54-4373-8a1c-0983c00744b3",
   "metadata": {},
   "outputs": [
    {
     "name": "stderr",
     "output_type": "stream",
     "text": [
      "/Users/eddie/opt/anaconda3/envs/news-rags/lib/python3.9/site-packages/tqdm/auto.py:21: TqdmWarning: IProgress not found. Please update jupyter and ipywidgets. See https://ipywidgets.readthedocs.io/en/stable/user_install.html\n",
      "  from .autonotebook import tqdm as notebook_tqdm\n",
      "None of PyTorch, TensorFlow >= 2.0, or Flax have been found. Models won't be available and only tokenizers, configuration and file/data utilities can be used.\n",
      "/Users/eddie/opt/anaconda3/envs/news-rags/lib/python3.9/site-packages/transformers/tokenization_utils_base.py:1601: FutureWarning: `clean_up_tokenization_spaces` was not set. It will be set to `True` by default. This behavior will be depracted in transformers v4.45, and will be then set to `False` by default. For more details check this issue: https://github.com/huggingface/transformers/issues/31884\n",
      "  warnings.warn(\n",
      "Token indices sequence length is longer than the specified maximum sequence length for this model (1705 > 1024). Running this sequence through the model will result in indexing errors\n"
     ]
    },
    {
     "data": {
      "text/plain": [
       "1705"
      ]
     },
     "execution_count": 27,
     "metadata": {},
     "output_type": "execute_result"
    }
   ],
   "source": [
    "llm.get_num_tokens(documents_china[2].page_content)"
   ]
  },
  {
   "cell_type": "code",
   "execution_count": 3,
   "id": "c570a90a-83e4-4c3f-9d18-578aa0dba55c",
   "metadata": {},
   "outputs": [],
   "source": [
    "def load_documents():\n",
    "    document_loader = PyPDFDirectoryLoader(DATA_PATH)\n",
    "    return document_loader.load()"
   ]
  },
  {
   "cell_type": "code",
   "execution_count": 4,
   "id": "f0370434-d8af-43ea-a11e-38b3118f7b89",
   "metadata": {},
   "outputs": [],
   "source": [
    "documents = load_documents()"
   ]
  },
  {
   "cell_type": "code",
   "execution_count": 5,
   "id": "fdca7420-aa68-4565-a7b0-b4d00671b062",
   "metadata": {},
   "outputs": [
    {
     "data": {
      "text/plain": [
       "24"
      ]
     },
     "execution_count": 5,
     "metadata": {},
     "output_type": "execute_result"
    }
   ],
   "source": [
    "len(documents)"
   ]
  },
  {
   "cell_type": "code",
   "execution_count": 26,
   "id": "ac85c708-d701-42de-ba23-47f6f6202dcc",
   "metadata": {},
   "outputs": [
    {
     "name": "stdout",
     "output_type": "stream",
     "text": [
      "page_content='Deloitte Global Retail Outlook 2024 | Navigating challenges and embracing opportunities - Insights from retail leaders around the world  03After the disruption that came about during by the COVID-19 \n",
      "pandemic,\tthe\trising\tcosts-of-living,\tinflationary\tpressures\tand \t\n",
      "geopolitical tensions around the world, you could forgive retailers \n",
      "for being cautious about prospects for the year ahead. But the \n",
      "opposite appears to be true. \n",
      "Buoyed by opportunities founded in technology – not least of \n",
      "which, the emergence of generative AI – which could reduce costs, \n",
      "improve productivity and enhance the customer experience, the \n",
      "retailers interviewed as part of the Deloitte Global Retail Outlook \n",
      "provided an optimistic outlook for both top- and bottom-line \n",
      "performance across the sector.It would be a mistake to say that things will be easy for retailers this \n",
      "year – the economic outlook suggests that 2024 as could be a year \n",
      "of\ttwo\tconflicting\thalves\tand\tretailers\treport\tthat\ttheir\tnumber\tone \t\n",
      "priority\taround\tthe\tworld\tis\tcoping\twith\tinflationary\tpressures\t–\tbut \t\n",
      "there is a sense that as the industry continues to evolve and adapt \n",
      "to changing market conditions, 2024 will likely be a year where \n",
      "retailers encounter plenty of opportunities for growth. \n",
      "To achieve their growth objectives, retailers should work to \n",
      "manage a variety of systemic challenges, including climate change, \n",
      "a shrinking labor force and supply chain pressures coming to the \n",
      "forefront. I hope there is an improvement in trading conditions in \n",
      "2024 to free up retailers to make longer-term strategic decisions \n",
      "and investments for the future. As a result, the decisions made this \n",
      "year\tby\tretailers\twill\tlikely\thave\ta\tsignificant\timpact\ton\ttheir\tlong-\n",
      "term performance.A foreword from  \n",
      "Evan Sheehan \n",
      "' metadata={'source': 'data/global-retail-outlook-2024.pdf', 'page': 2}\n"
     ]
    }
   ],
   "source": [
    "print(documents[2])"
   ]
  },
  {
   "cell_type": "code",
   "execution_count": 7,
   "id": "53df4b9a-1079-44e3-b206-cd15e6779b95",
   "metadata": {},
   "outputs": [
    {
     "data": {
      "text/plain": [
       "24"
      ]
     },
     "execution_count": 7,
     "metadata": {},
     "output_type": "execute_result"
    }
   ],
   "source": [
    "len(documents)"
   ]
  },
  {
   "cell_type": "code",
   "execution_count": 8,
   "id": "22e1a3c7-e6ed-4369-b776-8de470294238",
   "metadata": {},
   "outputs": [],
   "source": [
    "def split_documents(documents: list[Document]):\n",
    "    text_splitter = RecursiveCharacterTextSplitter(\n",
    "        chunk_size=800,\n",
    "        chunk_overlap=80,\n",
    "        length_function=len,\n",
    "        is_separator_regex=False,\n",
    "    )\n",
    "    return text_splitter.split_documents(documents)"
   ]
  },
  {
   "cell_type": "code",
   "execution_count": 9,
   "id": "184edf33-71ba-401e-982c-947f2c271658",
   "metadata": {},
   "outputs": [],
   "source": [
    "chunks = split_documents(documents)"
   ]
  },
  {
   "cell_type": "code",
   "execution_count": 10,
   "id": "e69646be-8ff1-4cf1-92d7-cbbe8d097fbe",
   "metadata": {},
   "outputs": [],
   "source": [
    "def calculate_chunk_ids(chunks):\n",
    "\n",
    "    # This will create IDs like \"data/monopoly.pdf:6:2\"\n",
    "    # Page Source : Page Number : Chunk Index\n",
    "\n",
    "    last_page_id = None\n",
    "    current_chunk_index = 0\n",
    "\n",
    "    for chunk in chunks:\n",
    "        source = chunk.metadata.get(\"source\")\n",
    "        page = chunk.metadata.get(\"page\")\n",
    "        current_page_id = f\"{source}:{page}\"\n",
    "\n",
    "        # If the page ID is the same as the last one, increment the index.\n",
    "        if current_page_id == last_page_id:\n",
    "            current_chunk_index += 1\n",
    "        else:\n",
    "            current_chunk_index = 0\n",
    "\n",
    "        # Calculate the chunk ID.\n",
    "        chunk_id = f\"{current_page_id}:{current_chunk_index}\"\n",
    "        last_page_id = current_page_id\n",
    "\n",
    "        # Add it to the page meta-data.\n",
    "        chunk.metadata[\"id\"] = chunk_id\n",
    "\n",
    "    return chunks"
   ]
  },
  {
   "cell_type": "code",
   "execution_count": 11,
   "id": "a0ebd882-eaa4-490b-b472-76d8f9f07b1a",
   "metadata": {},
   "outputs": [],
   "source": [
    "def get_embedding_function():\n",
    "    embeddings = BedrockEmbeddings(\n",
    "        credentials_profile_name=\"default\", region_name=\"us-east-1\"\n",
    "    )\n",
    "    # embeddings = OllamaEmbeddings(model=\"nomic-embed-text\")\n",
    "    return embeddings\n",
    "\n",
    "def add_to_chroma(chunks: list[Document]):\n",
    "    # Load the existing database.\n",
    "    db = Chroma(\n",
    "        persist_directory=CHROMA_PATH, embedding_function=get_embedding_function()\n",
    "    )\n",
    "\n",
    "    # Calculate Page IDs.\n",
    "    chunks_with_ids = calculate_chunk_ids(chunks)\n",
    "\n",
    "    # Add or Update the documents.\n",
    "    existing_items = db.get(include=[])  # IDs are always included by default\n",
    "    existing_ids = set(existing_items[\"ids\"])\n",
    "    print(f\"Number of existing documents in DB: {len(existing_ids)}\")\n",
    "\n",
    "    # Only add documents that don't exist in the DB.\n",
    "    new_chunks = []\n",
    "    for chunk in chunks_with_ids:\n",
    "        if chunk.metadata[\"id\"] not in existing_ids:\n",
    "            new_chunks.append(chunk)\n",
    "\n",
    "    if len(new_chunks):\n",
    "        print(f\"👉 Adding new documents: {len(new_chunks)}\")\n",
    "        new_chunk_ids = [chunk.metadata[\"id\"] for chunk in new_chunks]\n",
    "        db.add_documents(new_chunks, ids=new_chunk_ids)\n",
    "        db.persist()\n",
    "    else:\n",
    "        print(\"✅ No new documents to add\")"
   ]
  },
  {
   "cell_type": "code",
   "execution_count": 12,
   "id": "1ee83069-c11f-4546-a506-24c81115702d",
   "metadata": {},
   "outputs": [
    {
     "name": "stderr",
     "output_type": "stream",
     "text": [
      "/Users/eddie/opt/anaconda3/envs/news-rags/lib/python3.9/site-packages/langchain_core/_api/deprecation.py:139: LangChainDeprecationWarning: The class `Chroma` was deprecated in LangChain 0.2.9 and will be removed in 0.4. An updated version of the class exists in the langchain-chroma package and should be used instead. To use it run `pip install -U langchain-chroma` and import as `from langchain_chroma import Chroma`.\n",
      "  warn_deprecated(\n"
     ]
    },
    {
     "name": "stdout",
     "output_type": "stream",
     "text": [
      "Number of existing documents in DB: 113\n",
      "✅ No new documents to add\n"
     ]
    }
   ],
   "source": [
    "add_to_chroma(chunks)"
   ]
  },
  {
   "cell_type": "code",
   "execution_count": 13,
   "id": "0c7975e5-bcf2-437c-b4ab-364c6f0ac424",
   "metadata": {},
   "outputs": [],
   "source": [
    "llm = Ollama(model=\"llama3.1\")"
   ]
  },
  {
   "cell_type": "code",
   "execution_count": 14,
   "id": "ac739aee-08dc-40d4-8947-5bb6c1576f7b",
   "metadata": {},
   "outputs": [
    {
     "data": {
      "text/plain": [
       "\"I'd love to! As a conversational AI, I don't have personal feelings or emotions like humans do. However, I'm designed to provide affection and care through text-based interactions.\\n\\nIn that spirit, here's my digital hug: **YOU ARE LOVED AND APPRECIATED**!\\n\\nIf you're feeling down, sad, or just need some reassurance, know that there are people (and AI assistants like me) who want to help and support you. You're not alone! Would you like to talk about what's on your mind?\""
      ]
     },
     "execution_count": 14,
     "metadata": {},
     "output_type": "execute_result"
    }
   ],
   "source": [
    "llm.invoke(\"tell me you love me\")"
   ]
  },
  {
   "cell_type": "code",
   "execution_count": 15,
   "id": "878746d7-56e2-4e7e-8dee-2158fe5cde55",
   "metadata": {},
   "outputs": [
    {
     "name": "stdout",
     "output_type": "stream",
     "text": [
      "hi\n"
     ]
    }
   ],
   "source": [
    "print(\"hi\")"
   ]
  },
  {
   "cell_type": "code",
   "execution_count": 16,
   "id": "9d31364b-f006-4ad0-bf7e-bd4545246a41",
   "metadata": {},
   "outputs": [],
   "source": [
    "embedding_function = get_embedding_function()\n",
    "db = Chroma(persist_directory=CHROMA_PATH, embedding_function=embedding_function)"
   ]
  },
  {
   "cell_type": "code",
   "execution_count": 18,
   "id": "0f25addc-8cf1-47a0-a86f-57abfb80dbad",
   "metadata": {},
   "outputs": [],
   "source": [
    "\n",
    "#results = db.similarity_search_with_score(query_text, k=5)"
   ]
  },
  {
   "cell_type": "code",
   "execution_count": 20,
   "id": "b9f21fdd-d43c-48dc-8489-50bb8ba98628",
   "metadata": {},
   "outputs": [],
   "source": [
    "# context_text = \"\\n\\n---\\n\\n\".join([doc.page_content for doc, _score in results])"
   ]
  },
  {
   "cell_type": "code",
   "execution_count": 21,
   "id": "bdeed83c-220c-49bf-8aae-826498f81883",
   "metadata": {},
   "outputs": [],
   "source": [
    "PROMPT_TEMPLATE = \"\"\"\n",
    "Answer the question based only on the following context:\n",
    "\n",
    "{context}\n",
    "\n",
    "---\n",
    "\n",
    "Answer the question based on the above context: {question}\n",
    "\"\"\"\n",
    "\n",
    "def query_rag(query_text: str):\n",
    "    # Prepare the DB.\n",
    "    embedding_function = get_embedding_function()\n",
    "    db = Chroma(persist_directory=CHROMA_PATH, embedding_function=embedding_function)\n",
    "\n",
    "    # Search the DB.\n",
    "    results = db.similarity_search_with_score(query_text, k=5)\n",
    "\n",
    "    context_text = \"\\n\\n---\\n\\n\".join([doc.page_content for doc, _score in results])\n",
    "    prompt_template = ChatPromptTemplate.from_template(PROMPT_TEMPLATE)\n",
    "    prompt = prompt_template.format(context=context_text, question=query_text)\n",
    "    # print(prompt)\n",
    "\n",
    "    model = Ollama(model=\"llama3.1\")\n",
    "    response_text = model.invoke(prompt)\n",
    "\n",
    "    sources = [doc.metadata.get(\"id\", None) for doc, _score in results]\n",
    "    formatted_response = f\"Response: {response_text}\\nSources: {sources}\"\n",
    "    print(formatted_response)\n",
    "    return response_text"
   ]
  },
  {
   "cell_type": "code",
   "execution_count": 22,
   "id": "85d590f1-cb18-405f-961a-3bd3fc1ba5e6",
   "metadata": {},
   "outputs": [
    {
     "name": "stdout",
     "output_type": "stream",
     "text": [
      "hello world\n"
     ]
    }
   ],
   "source": [
    "print(\"hello world\")"
   ]
  },
  {
   "cell_type": "code",
   "execution_count": 25,
   "id": "17ba4fe5-2c7b-4b37-81be-88feceadf3a3",
   "metadata": {},
   "outputs": [
    {
     "name": "stdout",
     "output_type": "stream",
     "text": [
      "Response: Here's a 500-word headline entry for your newsletter based on one of the most important discoveries or trends supported by data:\n",
      "\n",
      "**Headline:** The Weight is Off: How Weight Loss Drugs are Revolutionizing Retail Sales and Customer Behavior\n",
      "\n",
      "**Subheading:** A Deloitte Insights analysis reveals that weight loss drugs are not only boosting sales at retail pharmacies but also changing consumer behavior, presenting new opportunities and challenges for retailers like Walmart.\n",
      "\n",
      "As we continue to navigate the ever-changing retail landscape, one trend is gaining significant attention: the impact of weight loss drugs on customer behavior and sales. A recent Deloitte Insights analysis found that weight loss drugs are not only increasing sales at retail pharmacies but also changing consumer behavior, presenting both opportunities and challenges for retailers like Walmart.\n",
      "\n",
      "**The Numbers Don't Lie**\n",
      "\n",
      "According to a CNBC report, weight loss drug sales have seen significant growth in the US market, with sales expected to reach $2.4 billion by 2023 (1). This trend is not limited to pharmacies; it's also influencing consumer behavior and shopping habits. A study by The New York Times found that weight loss drugs are being used by millions of Americans, with many using them as a shortcut to achieve their fitness goals (2).\n",
      "\n",
      "**Opportunities for Retailers**\n",
      "\n",
      "The rise of weight loss drugs presents an opportunity for retailers like Walmart to tap into this growing market and provide customers with the support they need to achieve their health and wellness goals. By offering related products and services, such as healthy food options, fitness programs, and nutrition counseling, retailers can create a one-stop-shop for customers looking to improve their overall well-being.\n",
      "\n",
      "**Challenges Ahead**\n",
      "\n",
      "However, the increasing demand for weight loss drugs also presents challenges for retailers like Walmart. As consumers become more health-conscious, they're looking for more natural and holistic solutions to achieve their fitness goals. This shift towards more natural and sustainable products could potentially cannibalize sales from traditional weight loss categories.\n",
      "\n",
      "**What's Next?**\n",
      "\n",
      "As a retail company, it's essential to stay ahead of the curve and adapt to these changes in consumer behavior. By understanding the impact of weight loss drugs on customer behavior and sales, retailers can identify opportunities to innovate and improve their offerings, ultimately driving growth and loyalty among customers.\n",
      "\n",
      "In conclusion, the rise of weight loss drugs is a significant trend that's changing the retail landscape. As we continue to navigate this new reality, it's essential for retailers like Walmart to stay informed and adapt to these changes in consumer behavior. By doing so, they can position themselves for success and drive growth in an increasingly competitive market.\n",
      "\n",
      "References:\n",
      "\n",
      "(1) CNBC: Weight Loss Drugs Boost Retail Pharmacy Sales\n",
      "\n",
      "(2) The New York Times: The Disruptive Power of Weight Loss Drugs Is Being Felt Beyond Pharma\n",
      "Sources: ['data/global-retail-outlook-2024.pdf:22:3', 'data/global-retail-outlook-2024.pdf:17:4', 'data/global-retail-outlook-2024.pdf:22:4', 'data/global-retail-outlook-2024.pdf:22:2', 'data/global-retail-outlook-2024.pdf:10:1']\n"
     ]
    }
   ],
   "source": [
    "query_text = \"I am a CEO of a retail company (Walmart) with international businesses in China, Mexico, Chile, India and Canada. \\\n",
    "Give me the five most useful facts, with supporting data, impacting these international businesses\"\n",
    "\n",
    "query_text = \"I am writing a newsletter for employees of the retail company (walmart) that I work with. This newsletter aims to share the most impactful international retail insights that they can use in their work\\\n",
    "Can you write me a roughly 500 word headline entry of the most important discovery or trend, supported by data\"\n",
    "\n",
    "response = query_rag(query_text)"
   ]
  },
  {
   "cell_type": "code",
   "execution_count": null,
   "id": "f1e0496e-3087-4e97-8b4d-1abbecde666f",
   "metadata": {},
   "outputs": [],
   "source": []
  }
 ],
 "metadata": {
  "kernelspec": {
   "display_name": "Python 3 (ipykernel)",
   "language": "python",
   "name": "python3"
  },
  "language_info": {
   "codemirror_mode": {
    "name": "ipython",
    "version": 3
   },
   "file_extension": ".py",
   "mimetype": "text/x-python",
   "name": "python",
   "nbconvert_exporter": "python",
   "pygments_lexer": "ipython3",
   "version": "3.9.19"
  }
 },
 "nbformat": 4,
 "nbformat_minor": 5
}
